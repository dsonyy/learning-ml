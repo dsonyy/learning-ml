{
 "metadata": {
  "language_info": {
   "codemirror_mode": {
    "name": "ipython",
    "version": 3
   },
   "file_extension": ".py",
   "mimetype": "text/x-python",
   "name": "python",
   "nbconvert_exporter": "python",
   "pygments_lexer": "ipython3",
   "version": "3.7.6-final"
  },
  "orig_nbformat": 2,
  "kernelspec": {
   "name": "python3",
   "display_name": "Python 3"
  }
 },
 "nbformat": 4,
 "nbformat_minor": 2,
 "cells": [
  {
   "cell_type": "markdown",
   "metadata": {},
   "source": [
    "# Codeforces problemset downloading\n",
    "Codeforces: https://codeforces.com/  \n",
    "Codeforces API: https://codeforces.com/apiHelp"
   ]
  },
  {
   "cell_type": "code",
   "execution_count": 1,
   "metadata": {},
   "outputs": [],
   "source": [
    "import requests\n",
    "import pandas as pd\n",
    "import numpy as np\n",
    "import json"
   ]
  },
  {
   "cell_type": "markdown",
   "metadata": {},
   "source": [
    "## Request"
   ]
  },
  {
   "cell_type": "code",
   "execution_count": 2,
   "metadata": {},
   "outputs": [],
   "source": [
    "response = requests.get(\"https://codeforces.com/api/problemset.problems\")\n",
    "problemset_json = response.content.decode(\"utf-8\")\n",
    "problemset = json.loads(problemset_json)[\"result\"]"
   ]
  },
  {
   "cell_type": "markdown",
   "metadata": {},
   "source": [
    "## Transform"
   ]
  },
  {
   "cell_type": "code",
   "execution_count": 3,
   "metadata": {
    "tags": []
   },
   "outputs": [
    {
     "output_type": "stream",
     "name": "stdout",
     "text": "['*special', '2-sat', 'binary search', 'bitmasks', 'brute force', 'chinese remainder theorem', 'combinatorics', 'constructive algorithms', 'data structures', 'dfs and similar', 'divide and conquer', 'dp', 'dsu', 'expression parsing', 'fft', 'flows', 'games', 'geometry', 'graph matchings', 'graphs', 'greedy', 'hashing', 'implementation', 'interactive', 'math', 'matrices', 'meet-in-the-middle', 'number theory', 'probabilities', 'schedules', 'shortest paths', 'sortings', 'string suffix structures', 'strings', 'ternary search', 'trees', 'two pointers']\n"
    }
   ],
   "source": [
    "all_tags = set()\n",
    "for problem in problemset[\"problems\"]:\n",
    "    tags = problem.get(\"tags\", [])\n",
    "    for tag in tags:\n",
    "        all_tags.add(tag)\n",
    "\n",
    "all_tags = sorted(list(all_tags))\n",
    "print(all_tags)"
   ]
  },
  {
   "cell_type": "code",
   "execution_count": 4,
   "metadata": {
    "tags": []
   },
   "outputs": [],
   "source": [
    "problem_list = []\n",
    "for problem in problemset[\"problems\"]:\n",
    "    contest_id = problem.get(\"contestId\", \"\")\n",
    "    # problemset_name = problem.get(\"problemsetName\", \"\")\n",
    "    index = problem.get(\"index\", \"\")\n",
    "    name = problem.get(\"name\", \"\")\n",
    "    # type_ = problem.get('type', \"\")\n",
    "    points = problem.get('points', \"\")\n",
    "    rating = problem.get('rating', \"\")\n",
    "    tags = problem.get('tags', [])\n",
    "\n",
    "    tags_num = [0] * len(all_tags)\n",
    "    for tag in tags:\n",
    "        tags_num[all_tags.index(tag)] = 1\n",
    "    \n",
    "    problem = [contest_id, index, name, points, rating] \\\n",
    "        + tags_num\n",
    "    problem_list.append(problem)"
   ]
  },
  {
   "cell_type": "code",
   "execution_count": 5,
   "metadata": {
    "tags": []
   },
   "outputs": [],
   "source": [
    "# I assume that there is exacty one problemStatistics element for each problem\n",
    "for idx, stats in enumerate(problemset[\"problemStatistics\"]):\n",
    "    problem_list[idx].insert(6, stats.get(\"solvedCount\", \"\"))"
   ]
  },
  {
   "cell_type": "markdown",
   "metadata": {},
   "source": [
    "## Save"
   ]
  },
  {
   "cell_type": "code",
   "execution_count": 6,
   "metadata": {},
   "outputs": [
    {
     "output_type": "execute_result",
     "data": {
      "text/plain": "      contest_id index                      name points rating  solved_count  \\\n0              1     A            Theatre Square          1000             0   \n1              1     B               Spreadsheet          1600             0   \n2              1     C    Ancient Berland Circus          2100             0   \n3              2     A                    Winner          1500             0   \n4              2     B       The least round way          2000             0   \n...          ...   ...                       ...    ...    ...           ...   \n6296        1401     B          Ternary Sequence   1000                    0   \n6297        1401     C                Mere Array   1500                    0   \n6298        1401     D  Maximum Distributed Tree   1750                    0   \n6299        1401     E             Divide Square   2500                    0   \n6300        1401     F          Reverse and Swap   2500                    0   \n\n      *special  2-sat  binary search  bitmasks  ...  number theory  \\\n0       117144      0              0         0  ...              0   \n1        13168      0              0         0  ...              0   \n2         3628      0              0         0  ...              0   \n3        12176      0              0         0  ...              0   \n4         5644      0              0         0  ...              0   \n...        ...    ...            ...       ...  ...            ...   \n6296     12332      0              0         0  ...              0   \n6297     10641      0              0         0  ...              1   \n6298      4172      0              0         0  ...              1   \n6299       864      0              1         0  ...              0   \n6300       523      0              1         1  ...              0   \n\n      probabilities  schedules  shortest paths  sortings  \\\n0                 0          0               0         0   \n1                 0          0               0         0   \n2                 0          0               0         0   \n3                 0          0               0         0   \n4                 0          0               0         0   \n...             ...        ...             ...       ...   \n6296              0          0               0         0   \n6297              0          0               0         1   \n6298              0          0               0         1   \n6299              0          0               0         1   \n6300              0          0               0         0   \n\n      string suffix structures  strings  ternary search  trees  two pointers  \n0                            0        0               0      0             0  \n1                            0        0               0      0             0  \n2                            0        0               0      0             0  \n3                            0        0               0      0             0  \n4                            0        0               0      0             0  \n...                        ...      ...             ...    ...           ...  \n6296                         0        0               0      0             0  \n6297                         0        0               0      0             0  \n6298                         0        0               0      1             0  \n6299                         0        0               0      0             0  \n6300                         0        0               0      0             0  \n\n[6301 rows x 43 columns]",
      "text/html": "<div>\n<style scoped>\n    .dataframe tbody tr th:only-of-type {\n        vertical-align: middle;\n    }\n\n    .dataframe tbody tr th {\n        vertical-align: top;\n    }\n\n    .dataframe thead th {\n        text-align: right;\n    }\n</style>\n<table border=\"1\" class=\"dataframe\">\n  <thead>\n    <tr style=\"text-align: right;\">\n      <th></th>\n      <th>contest_id</th>\n      <th>index</th>\n      <th>name</th>\n      <th>points</th>\n      <th>rating</th>\n      <th>solved_count</th>\n      <th>*special</th>\n      <th>2-sat</th>\n      <th>binary search</th>\n      <th>bitmasks</th>\n      <th>...</th>\n      <th>number theory</th>\n      <th>probabilities</th>\n      <th>schedules</th>\n      <th>shortest paths</th>\n      <th>sortings</th>\n      <th>string suffix structures</th>\n      <th>strings</th>\n      <th>ternary search</th>\n      <th>trees</th>\n      <th>two pointers</th>\n    </tr>\n  </thead>\n  <tbody>\n    <tr>\n      <th>0</th>\n      <td>1</td>\n      <td>A</td>\n      <td>Theatre Square</td>\n      <td></td>\n      <td>1000</td>\n      <td>0</td>\n      <td>117144</td>\n      <td>0</td>\n      <td>0</td>\n      <td>0</td>\n      <td>...</td>\n      <td>0</td>\n      <td>0</td>\n      <td>0</td>\n      <td>0</td>\n      <td>0</td>\n      <td>0</td>\n      <td>0</td>\n      <td>0</td>\n      <td>0</td>\n      <td>0</td>\n    </tr>\n    <tr>\n      <th>1</th>\n      <td>1</td>\n      <td>B</td>\n      <td>Spreadsheet</td>\n      <td></td>\n      <td>1600</td>\n      <td>0</td>\n      <td>13168</td>\n      <td>0</td>\n      <td>0</td>\n      <td>0</td>\n      <td>...</td>\n      <td>0</td>\n      <td>0</td>\n      <td>0</td>\n      <td>0</td>\n      <td>0</td>\n      <td>0</td>\n      <td>0</td>\n      <td>0</td>\n      <td>0</td>\n      <td>0</td>\n    </tr>\n    <tr>\n      <th>2</th>\n      <td>1</td>\n      <td>C</td>\n      <td>Ancient Berland Circus</td>\n      <td></td>\n      <td>2100</td>\n      <td>0</td>\n      <td>3628</td>\n      <td>0</td>\n      <td>0</td>\n      <td>0</td>\n      <td>...</td>\n      <td>0</td>\n      <td>0</td>\n      <td>0</td>\n      <td>0</td>\n      <td>0</td>\n      <td>0</td>\n      <td>0</td>\n      <td>0</td>\n      <td>0</td>\n      <td>0</td>\n    </tr>\n    <tr>\n      <th>3</th>\n      <td>2</td>\n      <td>A</td>\n      <td>Winner</td>\n      <td></td>\n      <td>1500</td>\n      <td>0</td>\n      <td>12176</td>\n      <td>0</td>\n      <td>0</td>\n      <td>0</td>\n      <td>...</td>\n      <td>0</td>\n      <td>0</td>\n      <td>0</td>\n      <td>0</td>\n      <td>0</td>\n      <td>0</td>\n      <td>0</td>\n      <td>0</td>\n      <td>0</td>\n      <td>0</td>\n    </tr>\n    <tr>\n      <th>4</th>\n      <td>2</td>\n      <td>B</td>\n      <td>The least round way</td>\n      <td></td>\n      <td>2000</td>\n      <td>0</td>\n      <td>5644</td>\n      <td>0</td>\n      <td>0</td>\n      <td>0</td>\n      <td>...</td>\n      <td>0</td>\n      <td>0</td>\n      <td>0</td>\n      <td>0</td>\n      <td>0</td>\n      <td>0</td>\n      <td>0</td>\n      <td>0</td>\n      <td>0</td>\n      <td>0</td>\n    </tr>\n    <tr>\n      <th>...</th>\n      <td>...</td>\n      <td>...</td>\n      <td>...</td>\n      <td>...</td>\n      <td>...</td>\n      <td>...</td>\n      <td>...</td>\n      <td>...</td>\n      <td>...</td>\n      <td>...</td>\n      <td>...</td>\n      <td>...</td>\n      <td>...</td>\n      <td>...</td>\n      <td>...</td>\n      <td>...</td>\n      <td>...</td>\n      <td>...</td>\n      <td>...</td>\n      <td>...</td>\n      <td>...</td>\n    </tr>\n    <tr>\n      <th>6296</th>\n      <td>1401</td>\n      <td>B</td>\n      <td>Ternary Sequence</td>\n      <td>1000</td>\n      <td></td>\n      <td>0</td>\n      <td>12332</td>\n      <td>0</td>\n      <td>0</td>\n      <td>0</td>\n      <td>...</td>\n      <td>0</td>\n      <td>0</td>\n      <td>0</td>\n      <td>0</td>\n      <td>0</td>\n      <td>0</td>\n      <td>0</td>\n      <td>0</td>\n      <td>0</td>\n      <td>0</td>\n    </tr>\n    <tr>\n      <th>6297</th>\n      <td>1401</td>\n      <td>C</td>\n      <td>Mere Array</td>\n      <td>1500</td>\n      <td></td>\n      <td>0</td>\n      <td>10641</td>\n      <td>0</td>\n      <td>0</td>\n      <td>0</td>\n      <td>...</td>\n      <td>1</td>\n      <td>0</td>\n      <td>0</td>\n      <td>0</td>\n      <td>1</td>\n      <td>0</td>\n      <td>0</td>\n      <td>0</td>\n      <td>0</td>\n      <td>0</td>\n    </tr>\n    <tr>\n      <th>6298</th>\n      <td>1401</td>\n      <td>D</td>\n      <td>Maximum Distributed Tree</td>\n      <td>1750</td>\n      <td></td>\n      <td>0</td>\n      <td>4172</td>\n      <td>0</td>\n      <td>0</td>\n      <td>0</td>\n      <td>...</td>\n      <td>1</td>\n      <td>0</td>\n      <td>0</td>\n      <td>0</td>\n      <td>1</td>\n      <td>0</td>\n      <td>0</td>\n      <td>0</td>\n      <td>1</td>\n      <td>0</td>\n    </tr>\n    <tr>\n      <th>6299</th>\n      <td>1401</td>\n      <td>E</td>\n      <td>Divide Square</td>\n      <td>2500</td>\n      <td></td>\n      <td>0</td>\n      <td>864</td>\n      <td>0</td>\n      <td>1</td>\n      <td>0</td>\n      <td>...</td>\n      <td>0</td>\n      <td>0</td>\n      <td>0</td>\n      <td>0</td>\n      <td>1</td>\n      <td>0</td>\n      <td>0</td>\n      <td>0</td>\n      <td>0</td>\n      <td>0</td>\n    </tr>\n    <tr>\n      <th>6300</th>\n      <td>1401</td>\n      <td>F</td>\n      <td>Reverse and Swap</td>\n      <td>2500</td>\n      <td></td>\n      <td>0</td>\n      <td>523</td>\n      <td>0</td>\n      <td>1</td>\n      <td>1</td>\n      <td>...</td>\n      <td>0</td>\n      <td>0</td>\n      <td>0</td>\n      <td>0</td>\n      <td>0</td>\n      <td>0</td>\n      <td>0</td>\n      <td>0</td>\n      <td>0</td>\n      <td>0</td>\n    </tr>\n  </tbody>\n</table>\n<p>6301 rows × 43 columns</p>\n</div>"
     },
     "metadata": {},
     "execution_count": 6
    }
   ],
   "source": [
    "columns = [\"contest_id\", \"index\", \"name\", \"points\", \"rating\", \"solved_count\"] \\\n",
    "    + all_tags\n",
    "dataframe = pd.DataFrame(problem_list, columns=columns)\n",
    "dataframe = dataframe.iloc[::-1].reset_index(drop=True)\n",
    "dataframe"
   ]
  },
  {
   "cell_type": "code",
   "execution_count": 7,
   "metadata": {},
   "outputs": [],
   "source": [
    "dataframe.to_csv(\"codeforces.tsv\", index=None, sep=\"\\t\")"
   ]
  }
 ]
}
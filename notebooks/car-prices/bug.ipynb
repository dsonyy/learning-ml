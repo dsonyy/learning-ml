{
 "metadata": {
  "language_info": {
   "codemirror_mode": {
    "name": "ipython",
    "version": 3
   },
   "file_extension": ".py",
   "mimetype": "text/x-python",
   "name": "python",
   "nbconvert_exporter": "python",
   "pygments_lexer": "ipython3",
   "version": "3.7.6-final"
  },
  "orig_nbformat": 2,
  "kernelspec": {
   "name": "python3",
   "display_name": "Python 3"
  }
 },
 "nbformat": 4,
 "nbformat_minor": 2,
 "cells": [
  {
   "cell_type": "markdown",
   "metadata": {},
   "source": [
    "## More info here: https://stackoverflow.com/questions/63536907/different-linearregression-predictions-with-scipy-sparse-and-numpy-ndarray-input"
   ]
  },
  {
   "cell_type": "code",
   "execution_count": 1,
   "metadata": {},
   "outputs": [],
   "source": [
    "import os\n",
    "import sys\n",
    "import numpy as np\n",
    "import pandas as pd\n",
    "import matplotlib as mpl\n",
    "import matplotlib.pyplot as plt\n",
    "import seaborn as sns\n",
    "\n",
    "# To reduce output size while working with vscode\n",
    "%config InlineBackend.figure_format = 'png'\n",
    "\n",
    "%matplotlib inline\n",
    "\n",
    "# Display all columns\n",
    "pd.options.display.max_columns = None\n",
    "\n",
    "FIGURES_PATH = \"plots/\"\n",
    "DATASETS_PATH = \"datasets/\"\n",
    "\n",
    "def save_fig(name, extension=\"png\", resolution=300):\n",
    "    os.makedirs(FIGURES_PATH, exist_ok=True)\n",
    "    path = os.path.join(FIGURES_PATH, name + \".\" + extension)\n",
    "    # print(\"Saving figure\", name)\n",
    "    plt.tight_layout()\n",
    "    plt.savefig(path, format=extension, dpi=resolution)\n",
    "\n",
    "np.random.seed(42)"
   ]
  },
  {
   "cell_type": "code",
   "execution_count": 2,
   "metadata": {},
   "outputs": [
    {
     "output_type": "execute_result",
     "data": {
      "text/plain": "      model  year  price transmission  mileage fuelType  tax   mpg  engineSize\n0        A1  2017  12500       Manual    15735   Petrol  150  55.4         1.4\n1        A6  2016  16500    Automatic    36203   Diesel   20  64.2         2.0\n2        A1  2016  11000       Manual    29946   Petrol   30  55.4         1.4\n3        A4  2017  16800    Automatic    25952   Diesel  145  67.3         2.0\n4        A3  2019  17300       Manual     1998   Petrol  145  49.6         1.0\n...     ...   ...    ...          ...      ...      ...  ...   ...         ...\n10663    A3  2020  16999       Manual     4018   Petrol  145  49.6         1.0\n10664    A3  2020  16999       Manual     1978   Petrol  150  49.6         1.0\n10665    A3  2020  17199       Manual      609   Petrol  150  49.6         1.0\n10666    Q3  2017  19499    Automatic     8646   Petrol  150  47.9         1.4\n10667    Q3  2016  15999       Manual    11855   Petrol  150  47.9         1.4\n\n[10668 rows x 9 columns]",
      "text/html": "<div>\n<style scoped>\n    .dataframe tbody tr th:only-of-type {\n        vertical-align: middle;\n    }\n\n    .dataframe tbody tr th {\n        vertical-align: top;\n    }\n\n    .dataframe thead th {\n        text-align: right;\n    }\n</style>\n<table border=\"1\" class=\"dataframe\">\n  <thead>\n    <tr style=\"text-align: right;\">\n      <th></th>\n      <th>model</th>\n      <th>year</th>\n      <th>price</th>\n      <th>transmission</th>\n      <th>mileage</th>\n      <th>fuelType</th>\n      <th>tax</th>\n      <th>mpg</th>\n      <th>engineSize</th>\n    </tr>\n  </thead>\n  <tbody>\n    <tr>\n      <th>0</th>\n      <td>A1</td>\n      <td>2017</td>\n      <td>12500</td>\n      <td>Manual</td>\n      <td>15735</td>\n      <td>Petrol</td>\n      <td>150</td>\n      <td>55.4</td>\n      <td>1.4</td>\n    </tr>\n    <tr>\n      <th>1</th>\n      <td>A6</td>\n      <td>2016</td>\n      <td>16500</td>\n      <td>Automatic</td>\n      <td>36203</td>\n      <td>Diesel</td>\n      <td>20</td>\n      <td>64.2</td>\n      <td>2.0</td>\n    </tr>\n    <tr>\n      <th>2</th>\n      <td>A1</td>\n      <td>2016</td>\n      <td>11000</td>\n      <td>Manual</td>\n      <td>29946</td>\n      <td>Petrol</td>\n      <td>30</td>\n      <td>55.4</td>\n      <td>1.4</td>\n    </tr>\n    <tr>\n      <th>3</th>\n      <td>A4</td>\n      <td>2017</td>\n      <td>16800</td>\n      <td>Automatic</td>\n      <td>25952</td>\n      <td>Diesel</td>\n      <td>145</td>\n      <td>67.3</td>\n      <td>2.0</td>\n    </tr>\n    <tr>\n      <th>4</th>\n      <td>A3</td>\n      <td>2019</td>\n      <td>17300</td>\n      <td>Manual</td>\n      <td>1998</td>\n      <td>Petrol</td>\n      <td>145</td>\n      <td>49.6</td>\n      <td>1.0</td>\n    </tr>\n    <tr>\n      <th>...</th>\n      <td>...</td>\n      <td>...</td>\n      <td>...</td>\n      <td>...</td>\n      <td>...</td>\n      <td>...</td>\n      <td>...</td>\n      <td>...</td>\n      <td>...</td>\n    </tr>\n    <tr>\n      <th>10663</th>\n      <td>A3</td>\n      <td>2020</td>\n      <td>16999</td>\n      <td>Manual</td>\n      <td>4018</td>\n      <td>Petrol</td>\n      <td>145</td>\n      <td>49.6</td>\n      <td>1.0</td>\n    </tr>\n    <tr>\n      <th>10664</th>\n      <td>A3</td>\n      <td>2020</td>\n      <td>16999</td>\n      <td>Manual</td>\n      <td>1978</td>\n      <td>Petrol</td>\n      <td>150</td>\n      <td>49.6</td>\n      <td>1.0</td>\n    </tr>\n    <tr>\n      <th>10665</th>\n      <td>A3</td>\n      <td>2020</td>\n      <td>17199</td>\n      <td>Manual</td>\n      <td>609</td>\n      <td>Petrol</td>\n      <td>150</td>\n      <td>49.6</td>\n      <td>1.0</td>\n    </tr>\n    <tr>\n      <th>10666</th>\n      <td>Q3</td>\n      <td>2017</td>\n      <td>19499</td>\n      <td>Automatic</td>\n      <td>8646</td>\n      <td>Petrol</td>\n      <td>150</td>\n      <td>47.9</td>\n      <td>1.4</td>\n    </tr>\n    <tr>\n      <th>10667</th>\n      <td>Q3</td>\n      <td>2016</td>\n      <td>15999</td>\n      <td>Manual</td>\n      <td>11855</td>\n      <td>Petrol</td>\n      <td>150</td>\n      <td>47.9</td>\n      <td>1.4</td>\n    </tr>\n  </tbody>\n</table>\n<p>10668 rows × 9 columns</p>\n</div>"
     },
     "metadata": {},
     "execution_count": 2
    }
   ],
   "source": [
    "AUDI_DATASET_PATH = os.path.join(DATASETS_PATH, \"audi.csv\")\n",
    "audi_orig = pd.read_csv(AUDI_DATASET_PATH)\n",
    "audi_orig"
   ]
  },
  {
   "cell_type": "markdown",
   "metadata": {},
   "source": [
    "## scipy.sparse"
   ]
  },
  {
   "cell_type": "code",
   "execution_count": 9,
   "metadata": {},
   "outputs": [],
   "source": [
    "from sklearn.pipeline import Pipeline\n",
    "from sklearn.compose import ColumnTransformer\n",
    "from sklearn.linear_model import LinearRegression\n",
    "from sklearn.model_selection import train_test_split\n",
    "from sklearn.preprocessing import StandardScaler, OneHotEncoder\n",
    "from sklearn.metrics import r2_score\n",
    "\n",
    "# Splitting to test and train\n",
    "X = audi_orig.drop(\"price\", axis=1)\n",
    "y = audi_orig[[\"price\"]]\n",
    "X_train, X_test, y_train, y_test = train_test_split(X, y, test_size=0.2, random_state=42)\n",
    "\n",
    "# Numerical attributes pipeline\n",
    "num_pipeline = Pipeline([ (\"scaler\", StandardScaler()) ])\n",
    "\n",
    "# Categorical attributes pipeline\n",
    "cat_pipeline = Pipeline([ (\"encoder\", OneHotEncoder(handle_unknown=\"ignore\")) ])\n",
    "\n",
    "# Complete pipeline\n",
    "full_pipeline = ColumnTransformer([\n",
    "    (\"cat\", cat_pipeline, [\"model\", \"transmission\", \"fuelType\"]),\n",
    "    (\"num\", num_pipeline, [\"year\", \"mileage\", \"tax\", \"mpg\", \"engineSize\"]),\n",
    "])"
   ]
  },
  {
   "cell_type": "code",
   "execution_count": 10,
   "metadata": {},
   "outputs": [
    {
     "output_type": "execute_result",
     "data": {
      "text/plain": "0.896044623680753"
     },
     "metadata": {},
     "execution_count": 10
    }
   ],
   "source": [
    "X_train = full_pipeline.fit_transform(X_train)\n",
    "X_test = full_pipeline.transform(X_test)\n",
    "\n",
    "from sklearn.linear_model import LinearRegression\n",
    "lin_reg = LinearRegression().fit(X_train, y_train)\n",
    "pred = lin_reg.predict(X_test)\n",
    "\n",
    "r2_score(y_test, pred) # 0.896044623680753 OK"
   ]
  },
  {
   "cell_type": "markdown",
   "metadata": {},
   "source": [
    "## numpy.ndarray"
   ]
  },
  {
   "cell_type": "code",
   "execution_count": 11,
   "metadata": {},
   "outputs": [],
   "source": [
    "from sklearn.pipeline import Pipeline\n",
    "from sklearn.compose import ColumnTransformer\n",
    "from sklearn.linear_model import LinearRegression\n",
    "from sklearn.metrics import r2_score\n",
    "\n",
    "# Splitting to test and train\n",
    "X = audi_orig.drop(\"price\", axis=1)\n",
    "y = audi_orig[[\"price\"]]\n",
    "X_train, X_test, y_train, y_test = train_test_split(X, y, test_size=0.2, random_state=42)\n",
    "\n",
    "# Numerical attributes pipeline\n",
    "num_pipeline = Pipeline([ (\"scaler\", StandardScaler()) ])\n",
    "\n",
    "# Categorical attributes pipeline\n",
    "cat_pipeline = Pipeline([ (\"encoder\", OneHotEncoder(handle_unknown=\"ignore\")) ])\n",
    "\n",
    "# Complete pipeline\n",
    "full_pipeline = ColumnTransformer([\n",
    "    (\"cat\", cat_pipeline, [\"model\", \"transmission\", \"fuelType\"]),\n",
    "    (\"num\", num_pipeline, [\"year\", \"mileage\", \"tax\", \"mpg\", \"engineSize\"]),\n",
    "])"
   ]
  },
  {
   "cell_type": "code",
   "execution_count": 12,
   "metadata": {
    "tags": []
   },
   "outputs": [
    {
     "output_type": "execute_result",
     "data": {
      "text/plain": "-7.919935999010152e+19"
     },
     "metadata": {},
     "execution_count": 12
    }
   ],
   "source": [
    "X_train = full_pipeline.fit_transform(X_train).toarray()\n",
    "X_test = full_pipeline.transform(X_test).toarray()\n",
    "\n",
    "from sklearn.linear_model import LinearRegression\n",
    "lin_reg = LinearRegression().fit(X_train, y_train)\n",
    "pred = lin_reg.predict(X_test)\n",
    "    \n",
    "r2_score(y_test, pred) # -7.919935999010152e+19 Something is wrong"
   ]
  },
  {
   "cell_type": "code",
   "execution_count": 3,
   "metadata": {},
   "outputs": [
    {
     "output_type": "execute_result",
     "data": {
      "text/plain": "'0.23.2'"
     },
     "metadata": {},
     "execution_count": 3
    }
   ],
   "source": [
    "import sklearn\n",
    "sklearn.__version__"
   ]
  }
 ]
}
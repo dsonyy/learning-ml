{
 "cells": [
  {
   "cell_type": "code",
   "execution_count": 3,
   "metadata": {},
   "outputs": [
    {
     "name": "stdout",
     "output_type": "stream",
     "text": [
      "2.2.0\n",
      "True\n",
      "0.8.0\n",
      "[PhysicalDevice(name='/physical_device:GPU:0', device_type='GPU')]\n"
     ]
    }
   ],
   "source": [
    "import tensorflow as tf\n",
    "import numpy as np\n",
    "import tensorflow_hub as hub\n",
    "import tensorflow_datasets as tfds\n",
    "\n",
    "print(tf.__version__)\n",
    "print(tf.executing_eagerly())\n",
    "print(hub.__version__)\n",
    "print(tf.config.experimental.list_physical_devices(\"GPU\"))"
   ]
  },
  {
   "cell_type": "code",
   "execution_count": 9,
   "metadata": {},
   "outputs": [],
   "source": [
    "train_data, validation_data, test_data = tfds.load(name=\"imdb_reviews\",\n",
    "                                                   split=(\"train[:60%]\", \"train[60%:]\", \"test\"),\n",
    "                                                   as_supervised=True)"
   ]
  },
  {
   "cell_type": "code",
   "execution_count": 14,
   "metadata": {},
   "outputs": [],
   "source": [
    "train_examples_batch, train_labels_batch = next(iter(train_data.batch(10)))"
   ]
  },
  {
   "cell_type": "code",
   "execution_count": 25,
   "metadata": {},
   "outputs": [
    {
     "data": {
      "text/plain": [
       "array([b\"This was an absolutely terrible movie. Don't be lured in by Christopher Walken or Michael Ironside. Both are great actors, but this must simply be their worst role in history. Even their great acting could not redeem this movie's ridiculous storyline. This movie is an early nineties US propaganda piece. The most pathetic scenes were those when the Columbian rebels were making their cases for revolutions. Maria Conchita Alonso appeared phony, and her pseudo-love affair with Walken was nothing but a pathetic emotional plug in a movie that was devoid of any real meaning. I am disappointed that there are movies like this, ruining actor's like Christopher Walken's good name. I could barely sit through it.\",\n",
       "       b'I have been known to fall asleep during films, but this is usually due to a combination of things including, really tired, being warm and comfortable on the sette and having just eaten a lot. However on this occasion I fell asleep because the film was rubbish. The plot development was constant. Constantly slow and boring. Things seemed to happen, but with no explanation of what was causing them or why. I admit, I may have missed part of the film, but i watched the majority of it and everything just seemed to happen of its own accord without any real concern for anything else. I cant recommend this film at all.',\n",
       "       b'Mann photographs the Alberta Rocky Mountains in a superb fashion, and Jimmy Stewart and Walter Brennan give enjoyable performances as they always seem to do. <br /><br />But come on Hollywood - a Mountie telling the people of Dawson City, Yukon to elect themselves a marshal (yes a marshal!) and to enforce the law themselves, then gunfighters battling it out on the streets for control of the town? <br /><br />Nothing even remotely resembling that happened on the Canadian side of the border during the Klondike gold rush. Mr. Mann and company appear to have mistaken Dawson City for Deadwood, the Canadian North for the American Wild West.<br /><br />Canadian viewers be prepared for a Reefer Madness type of enjoyable howl with this ludicrous plot, or, to shake your head in disgust.'],\n",
       "      dtype=object)"
      ]
     },
     "execution_count": 25,
     "metadata": {},
     "output_type": "execute_result"
    }
   ],
   "source": [
    "train_examples_batch[0:3].numpy()"
   ]
  },
  {
   "cell_type": "code",
   "execution_count": 26,
   "metadata": {},
   "outputs": [
    {
     "data": {
      "text/plain": [
       "array([0, 0, 0], dtype=int64)"
      ]
     },
     "execution_count": 26,
     "metadata": {},
     "output_type": "execute_result"
    }
   ],
   "source": [
    "train_labels_batch[0:3].numpy()"
   ]
  },
  {
   "cell_type": "code",
   "execution_count": 28,
   "metadata": {},
   "outputs": [
    {
     "data": {
      "text/plain": [
       "<tf.Tensor: shape=(3, 20), dtype=float32, numpy=\n",
       "array([[ 1.765786  , -3.882232  ,  3.9134233 , -1.5557289 , -3.3362343 ,\n",
       "        -1.7357955 , -1.9954445 ,  1.2989551 ,  5.081598  , -1.1041286 ,\n",
       "        -2.0503852 , -0.72675157, -0.65675956,  0.24436149, -3.7208383 ,\n",
       "         2.0954835 ,  2.2969332 , -2.0689783 , -2.9489717 , -1.1315987 ],\n",
       "       [ 1.8804485 , -2.5852382 ,  3.4066997 ,  1.0982676 , -4.056685  ,\n",
       "        -4.891284  , -2.785554  ,  1.3874227 ,  3.8476458 , -0.9256538 ,\n",
       "        -1.896706  ,  1.2113281 ,  0.11474707,  0.76209456, -4.8791065 ,\n",
       "         2.906149  ,  4.7087674 , -2.3652055 , -3.5015898 , -1.6390051 ],\n",
       "       [ 0.71152234, -0.6353217 ,  1.7385626 , -1.1168286 , -0.5451594 ,\n",
       "        -1.1808156 ,  0.09504455,  1.4653089 ,  0.66059524,  0.79308075,\n",
       "        -2.2268345 ,  0.07446612, -1.4075904 , -0.70645386, -1.907037  ,\n",
       "         1.4419787 ,  1.9551861 , -0.42660055, -2.8022065 ,  0.43727064]],\n",
       "      dtype=float32)>"
      ]
     },
     "execution_count": 28,
     "metadata": {},
     "output_type": "execute_result"
    }
   ],
   "source": [
    "embedding = \"https://tfhub.dev/google/tf2-preview/gnews-swivel-20dim/1\"\n",
    "hub_layer = hub.KerasLayer(embedding, input_shape=[], dtype=tf.string, trainable=True)\n",
    "hub_layer(train_examples_batch[:3])"
   ]
  },
  {
   "cell_type": "code",
   "execution_count": 29,
   "metadata": {},
   "outputs": [
    {
     "name": "stdout",
     "output_type": "stream",
     "text": [
      "Model: \"sequential\"\n",
      "_________________________________________________________________\n",
      "Layer (type)                 Output Shape              Param #   \n",
      "=================================================================\n",
      "keras_layer (KerasLayer)     (None, 20)                400020    \n",
      "_________________________________________________________________\n",
      "dense (Dense)                (None, 16)                336       \n",
      "_________________________________________________________________\n",
      "dense_1 (Dense)              (None, 1)                 17        \n",
      "=================================================================\n",
      "Total params: 400,373\n",
      "Trainable params: 400,373\n",
      "Non-trainable params: 0\n",
      "_________________________________________________________________\n"
     ]
    }
   ],
   "source": [
    "model = tf.keras.Sequential()\n",
    "model.add(hub_layer)\n",
    "model.add(tf.keras.layers.Dense(16, activation=\"relu\"))\n",
    "model.add(tf.keras.layers.Dense(1))\n",
    "\n",
    "model.summary()"
   ]
  },
  {
   "cell_type": "code",
   "execution_count": 32,
   "metadata": {},
   "outputs": [],
   "source": [
    "model.compile(optimizer=\"adam\", loss=tf.keras.losses.BinaryCrossentropy(from_logits=True), metrics=[\"accuracy\"])"
   ]
  },
  {
   "cell_type": "code",
   "execution_count": 33,
   "metadata": {},
   "outputs": [
    {
     "name": "stdout",
     "output_type": "stream",
     "text": [
      "Epoch 1/20\n",
      "30/30 [==============================] - 2s 71ms/step - loss: 0.8571 - accuracy: 0.5325 - val_loss: 0.7424 - val_accuracy: 0.5790\n",
      "Epoch 2/20\n",
      "30/30 [==============================] - 2s 64ms/step - loss: 0.6889 - accuracy: 0.6136 - val_loss: 0.6418 - val_accuracy: 0.6410\n",
      "Epoch 3/20\n",
      "30/30 [==============================] - 2s 64ms/step - loss: 0.6093 - accuracy: 0.6623 - val_loss: 0.5865 - val_accuracy: 0.6842\n",
      "Epoch 4/20\n",
      "30/30 [==============================] - 2s 65ms/step - loss: 0.5563 - accuracy: 0.6996 - val_loss: 0.5451 - val_accuracy: 0.7109\n",
      "Epoch 5/20\n",
      "30/30 [==============================] - 2s 64ms/step - loss: 0.5157 - accuracy: 0.7309 - val_loss: 0.5111 - val_accuracy: 0.7409\n",
      "Epoch 6/20\n",
      "30/30 [==============================] - 2s 64ms/step - loss: 0.4785 - accuracy: 0.7585 - val_loss: 0.4812 - val_accuracy: 0.7687\n",
      "Epoch 7/20\n",
      "30/30 [==============================] - 2s 66ms/step - loss: 0.4405 - accuracy: 0.7876 - val_loss: 0.4532 - val_accuracy: 0.7673\n",
      "Epoch 8/20\n",
      "30/30 [==============================] - 2s 64ms/step - loss: 0.4059 - accuracy: 0.8096 - val_loss: 0.4226 - val_accuracy: 0.7988\n",
      "Epoch 9/20\n",
      "30/30 [==============================] - 2s 65ms/step - loss: 0.3715 - accuracy: 0.8334 - val_loss: 0.3971 - val_accuracy: 0.8092\n",
      "Epoch 10/20\n",
      "30/30 [==============================] - 2s 66ms/step - loss: 0.3401 - accuracy: 0.8485 - val_loss: 0.3759 - val_accuracy: 0.8214\n",
      "Epoch 11/20\n",
      "30/30 [==============================] - 2s 65ms/step - loss: 0.3102 - accuracy: 0.8670 - val_loss: 0.3559 - val_accuracy: 0.8412\n",
      "Epoch 12/20\n",
      "30/30 [==============================] - 2s 65ms/step - loss: 0.2850 - accuracy: 0.8793 - val_loss: 0.3407 - val_accuracy: 0.8448\n",
      "Epoch 13/20\n",
      "30/30 [==============================] - 2s 64ms/step - loss: 0.2625 - accuracy: 0.8923 - val_loss: 0.3286 - val_accuracy: 0.8514\n",
      "Epoch 14/20\n",
      "30/30 [==============================] - 2s 65ms/step - loss: 0.2430 - accuracy: 0.9045 - val_loss: 0.3192 - val_accuracy: 0.8581\n",
      "Epoch 15/20\n",
      "30/30 [==============================] - 2s 65ms/step - loss: 0.2253 - accuracy: 0.9121 - val_loss: 0.3126 - val_accuracy: 0.8584\n",
      "Epoch 16/20\n",
      "30/30 [==============================] - 2s 65ms/step - loss: 0.2106 - accuracy: 0.9181 - val_loss: 0.3087 - val_accuracy: 0.8678\n",
      "Epoch 17/20\n",
      "30/30 [==============================] - 2s 66ms/step - loss: 0.1973 - accuracy: 0.9246 - val_loss: 0.3060 - val_accuracy: 0.8692\n",
      "Epoch 18/20\n",
      "30/30 [==============================] - 2s 65ms/step - loss: 0.1850 - accuracy: 0.9311 - val_loss: 0.3023 - val_accuracy: 0.8639\n",
      "Epoch 19/20\n",
      "30/30 [==============================] - 2s 65ms/step - loss: 0.1722 - accuracy: 0.9367 - val_loss: 0.3006 - val_accuracy: 0.8672\n",
      "Epoch 20/20\n",
      "30/30 [==============================] - 2s 65ms/step - loss: 0.1613 - accuracy: 0.9422 - val_loss: 0.2990 - val_accuracy: 0.8698\n"
     ]
    }
   ],
   "source": [
    "history = model.fit(train_data.shuffle(10000).batch(512),\n",
    "                    epochs=20,\n",
    "                    validation_data=validation_data.batch(512),\n",
    "                    verbose=1)"
   ]
  },
  {
   "cell_type": "code",
   "execution_count": 34,
   "metadata": {},
   "outputs": [
    {
     "name": "stdout",
     "output_type": "stream",
     "text": [
      "49/49 - 2s - loss: 0.3150 - accuracy: 0.8593\n"
     ]
    }
   ],
   "source": [
    "results = model.evaluate(test_data.batch(512), verbose=2)"
   ]
  },
  {
   "cell_type": "code",
   "execution_count": 36,
   "metadata": {},
   "outputs": [
    {
     "name": "stdout",
     "output_type": "stream",
     "text": [
      "loss: 0.315\n",
      "accuracy: 0.859\n"
     ]
    }
   ],
   "source": [
    "for name, value in zip(model.metrics_names, results):\n",
    "    print(\"%s: %.3f\" % (name, value))"
   ]
  },
  {
   "cell_type": "code",
   "execution_count": null,
   "metadata": {},
   "outputs": [],
   "source": []
  }
 ],
 "metadata": {
  "kernelspec": {
   "display_name": "Python 3",
   "language": "python",
   "name": "python3"
  },
  "language_info": {
   "codemirror_mode": {
    "name": "ipython",
    "version": 3
   },
   "file_extension": ".py",
   "mimetype": "text/x-python",
   "name": "python",
   "nbconvert_exporter": "python",
   "pygments_lexer": "ipython3",
   "version": "3.7.6"
  }
 },
 "nbformat": 4,
 "nbformat_minor": 4
}

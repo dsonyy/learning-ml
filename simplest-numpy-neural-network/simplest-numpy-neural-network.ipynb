{
 "cells": [
  {
   "cell_type": "code",
   "execution_count": 1,
   "metadata": {},
   "outputs": [],
   "source": [
    "import numpy as np"
   ]
  },
  {
   "cell_type": "markdown",
   "metadata": {},
   "source": [
    "# Neural Net (1 input neuron, 1 hidden neuron, 1 output neuron)"
   ]
  },
  {
   "cell_type": "code",
   "execution_count": 2,
   "metadata": {},
   "outputs": [],
   "source": [
    "class NeuralNet:\n",
    "    def __init__(self):\n",
    "        self.W0 = 0.5\n",
    "        self.W1 = 0.5\n",
    "        \n",
    "        self.B0 = 0\n",
    "        self.B1 = 0\n",
    "    \n",
    "    def sigmoid(self, x):\n",
    "        return 1 / (1 + np.exp(-x))\n",
    "    \n",
    "    def dsigmoid(self, x):\n",
    "        return self.sigmoid(x) * (1 - self.sigmoid(x))\n",
    "    \n",
    "    def run(self, s, test=None, debug=True):\n",
    "        L0 = s\n",
    "            \n",
    "        Z0 = self.W0 * L0 + self.B0\n",
    "        A0 = self.sigmoid(Z0)\n",
    "        L1 = A0\n",
    "        \n",
    "        Z1 = self.W1 * L1 + self.B1\n",
    "        A1 = self.sigmoid(Z1)\n",
    "        L2 = A1\n",
    "        \n",
    "        if debug:\n",
    "            print(\"------------------\")\n",
    "            print(\"L0:\", L0)\n",
    "            print(\"Z0:\", Z0)\n",
    "            print(\"A0:\", A0)\n",
    "            print(\"L1:\", L1)\n",
    "            print(\"Z1:\", Z1)\n",
    "            print(\"A1:\", A1)\n",
    "            print(\"L2:\", L2)\n",
    "            print(\"Desired:\", L0, \", Estimated:\", int(round(L2)))\n",
    "        \n",
    "        if test != None:\n",
    "            D = test\n",
    "            dW1 = 2*(D - L2) * self.dsigmoid(Z1) * A0\n",
    "            dW0 = 2*(D - L2) * self.dsigmoid(Z1) * self.W1 * self.dsigmoid(Z0) * L0\n",
    "            dB1 = 2*(D - L2) * self.dsigmoid(Z1) * 1\n",
    "            dB0 = 2*(D - L2) * self.dsigmoid(Z1) * self.W1 * self.dsigmoid(Z0) * 1\n",
    "            dcost = np.array([dW1, dB1, dW0, dB0])\n",
    "            if debug: print(\"COST%i:\\t%.6f\" % (s, (D - L2)**2))\n",
    "            return dcost\n",
    "        return None\n",
    "    "
   ]
  },
  {
   "cell_type": "code",
   "execution_count": 3,
   "metadata": {},
   "outputs": [],
   "source": [
    "nn = NeuralNet()"
   ]
  },
  {
   "cell_type": "code",
   "execution_count": 4,
   "metadata": {
    "scrolled": false
   },
   "outputs": [
    {
     "name": "stdout",
     "output_type": "stream",
     "text": [
      "BEFORE TRAINING:\n",
      "------------------\n",
      "L0: 0\n",
      "Z0: 0.0\n",
      "A0: 0.5\n",
      "L1: 0.5\n",
      "Z1: 0.25\n",
      "A1: 0.5621765008857981\n",
      "L2: 0.5621765008857981\n",
      "Desired: 0 , Estimated: 1\n",
      "COST0:\t0.316042\n",
      "------------------\n",
      "L0: 1\n",
      "Z0: 0.5\n",
      "A0: 0.6224593312018546\n",
      "L1: 0.6224593312018546\n",
      "Z1: 0.3112296656009273\n",
      "A1: 0.5771853801446523\n",
      "L2: 0.5771853801446523\n",
      "Desired: 1 , Estimated: 1\n",
      "COST1:\t0.178772\n",
      "\n",
      "\n",
      "AFTER TRAINING:\n",
      "------------------\n",
      "L0: 0\n",
      "Z0: -2.3117172802340935\n",
      "A0: 0.09015717898033768\n",
      "L1: 0.09015717898033768\n",
      "Z1: -2.3799483577311182\n",
      "A1: 0.08471456988370085\n",
      "L2: 0.08471456988370085\n",
      "Desired: 0 , Estimated: 0\n",
      "COST0:\t0.007177\n",
      "------------------\n",
      "L0: 1\n",
      "Z0: 2.4367689900450475\n",
      "A0: 0.9195884928608323\n",
      "L1: 0.9195884928608323\n",
      "Z1: 2.5655141394861456\n",
      "A1: 0.9286088795376922\n",
      "L2: 0.9286088795376922\n",
      "Desired: 1 , Estimated: 1\n",
      "COST1:\t0.005097\n"
     ]
    },
    {
     "data": {
      "text/plain": [
       "array([0.00870452, 0.00946567, 0.00417339, 0.00417339])"
      ]
     },
     "execution_count": 4,
     "metadata": {},
     "output_type": "execute_result"
    }
   ],
   "source": [
    "print(\"BEFORE TRAINING:\")\n",
    "nn.run(0, 0)\n",
    "nn.run(1, 1)\n",
    "\n",
    "for i in range(400):\n",
    "    gradient = np.sum([nn.run(s, s, debug=False) for s in (0, 1)], axis=0) / 2\n",
    "\n",
    "    nn.W1 += gradient[0]\n",
    "    nn.B1 += gradient[1]\n",
    "    nn.W0 += gradient[2]\n",
    "    nn.B0 += gradient[3]\n",
    "\n",
    "print(\"\\n\\nAFTER TRAINING:\")\n",
    "nn.run(0, 0)\n",
    "nn.run(1, 1)"
   ]
  }
 ],
 "metadata": {
  "kernelspec": {
   "display_name": "Python [conda env:root]",
   "language": "python",
   "name": "conda-root-py"
  },
  "language_info": {
   "codemirror_mode": {
    "name": "ipython",
    "version": 3
   },
   "file_extension": ".py",
   "mimetype": "text/x-python",
   "name": "python",
   "nbconvert_exporter": "python",
   "pygments_lexer": "ipython3",
   "version": "3.7.6"
  }
 },
 "nbformat": 4,
 "nbformat_minor": 4
}
